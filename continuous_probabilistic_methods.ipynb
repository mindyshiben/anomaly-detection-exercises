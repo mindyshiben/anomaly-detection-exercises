{
 "cells": [
  {
   "cell_type": "code",
   "execution_count": 6,
   "id": "b96cbbb4",
   "metadata": {},
   "outputs": [],
   "source": [
    "import numpy as np\n",
    "import pandas as pd\n",
    "import seaborn as sns\n",
    "import matplotlib.pyplot as plt\n",
    "import scipy.stats as stats\n",
    "\n",
    "%matplotlib inline\n",
    "\n",
    "url = \"https://gist.githubusercontent.com/ryanorsinger/19bc7eccd6279661bd13307026628ace/raw/e4b5d6787015a4782f96cad6d1d62a8bdbac54c7/lemonade.csv\"\n",
    "df = pd.read_csv(url)"
   ]
  },
  {
   "cell_type": "code",
   "execution_count": 7,
   "id": "024e84e5",
   "metadata": {},
   "outputs": [
    {
     "data": {
      "text/html": [
       "<div>\n",
       "<style scoped>\n",
       "    .dataframe tbody tr th:only-of-type {\n",
       "        vertical-align: middle;\n",
       "    }\n",
       "\n",
       "    .dataframe tbody tr th {\n",
       "        vertical-align: top;\n",
       "    }\n",
       "\n",
       "    .dataframe thead th {\n",
       "        text-align: right;\n",
       "    }\n",
       "</style>\n",
       "<table border=\"1\" class=\"dataframe\">\n",
       "  <thead>\n",
       "    <tr style=\"text-align: right;\">\n",
       "      <th></th>\n",
       "      <th>Date</th>\n",
       "      <th>Day</th>\n",
       "      <th>Temperature</th>\n",
       "      <th>Rainfall</th>\n",
       "      <th>Flyers</th>\n",
       "      <th>Price</th>\n",
       "      <th>Sales</th>\n",
       "    </tr>\n",
       "  </thead>\n",
       "  <tbody>\n",
       "    <tr>\n",
       "      <th>0</th>\n",
       "      <td>1/1/17</td>\n",
       "      <td>Sunday</td>\n",
       "      <td>27.0</td>\n",
       "      <td>2.00</td>\n",
       "      <td>15</td>\n",
       "      <td>0.5</td>\n",
       "      <td>10</td>\n",
       "    </tr>\n",
       "    <tr>\n",
       "      <th>1</th>\n",
       "      <td>1/2/17</td>\n",
       "      <td>Monday</td>\n",
       "      <td>28.9</td>\n",
       "      <td>1.33</td>\n",
       "      <td>15</td>\n",
       "      <td>0.5</td>\n",
       "      <td>13</td>\n",
       "    </tr>\n",
       "    <tr>\n",
       "      <th>2</th>\n",
       "      <td>1/3/17</td>\n",
       "      <td>Tuesday</td>\n",
       "      <td>34.5</td>\n",
       "      <td>1.33</td>\n",
       "      <td>27</td>\n",
       "      <td>0.5</td>\n",
       "      <td>15</td>\n",
       "    </tr>\n",
       "    <tr>\n",
       "      <th>3</th>\n",
       "      <td>1/4/17</td>\n",
       "      <td>Wednesday</td>\n",
       "      <td>44.1</td>\n",
       "      <td>1.05</td>\n",
       "      <td>28</td>\n",
       "      <td>0.5</td>\n",
       "      <td>17</td>\n",
       "    </tr>\n",
       "    <tr>\n",
       "      <th>4</th>\n",
       "      <td>1/5/17</td>\n",
       "      <td>Thursday</td>\n",
       "      <td>42.4</td>\n",
       "      <td>1.00</td>\n",
       "      <td>33</td>\n",
       "      <td>0.5</td>\n",
       "      <td>18</td>\n",
       "    </tr>\n",
       "  </tbody>\n",
       "</table>\n",
       "</div>"
      ],
      "text/plain": [
       "     Date        Day  Temperature  Rainfall  Flyers  Price  Sales\n",
       "0  1/1/17     Sunday         27.0      2.00      15    0.5     10\n",
       "1  1/2/17     Monday         28.9      1.33      15    0.5     13\n",
       "2  1/3/17    Tuesday         34.5      1.33      27    0.5     15\n",
       "3  1/4/17  Wednesday         44.1      1.05      28    0.5     17\n",
       "4  1/5/17   Thursday         42.4      1.00      33    0.5     18"
      ]
     },
     "execution_count": 7,
     "metadata": {},
     "output_type": "execute_result"
    }
   ],
   "source": [
    "df.head()"
   ]
  },
  {
   "cell_type": "code",
   "execution_count": 3,
   "id": "96609009",
   "metadata": {},
   "outputs": [
    {
     "name": "stdout",
     "output_type": "stream",
     "text": [
      "<class 'pandas.core.frame.DataFrame'>\n",
      "RangeIndex: 365 entries, 0 to 364\n",
      "Data columns (total 7 columns):\n",
      " #   Column       Non-Null Count  Dtype  \n",
      "---  ------       --------------  -----  \n",
      " 0   Date         365 non-null    object \n",
      " 1   Day          365 non-null    object \n",
      " 2   Temperature  365 non-null    float64\n",
      " 3   Rainfall     365 non-null    float64\n",
      " 4   Flyers       365 non-null    int64  \n",
      " 5   Price        365 non-null    float64\n",
      " 6   Sales        365 non-null    int64  \n",
      "dtypes: float64(3), int64(2), object(2)\n",
      "memory usage: 20.1+ KB\n"
     ]
    }
   ],
   "source": [
    "df.info()"
   ]
  },
  {
   "cell_type": "code",
   "execution_count": 10,
   "id": "cbec65b0",
   "metadata": {},
   "outputs": [],
   "source": [
    "df['Date'] = pd.to_datetime(df.Date)"
   ]
  },
  {
   "cell_type": "code",
   "execution_count": 12,
   "id": "d96ca83a",
   "metadata": {},
   "outputs": [
    {
     "data": {
      "text/html": [
       "<div>\n",
       "<style scoped>\n",
       "    .dataframe tbody tr th:only-of-type {\n",
       "        vertical-align: middle;\n",
       "    }\n",
       "\n",
       "    .dataframe tbody tr th {\n",
       "        vertical-align: top;\n",
       "    }\n",
       "\n",
       "    .dataframe thead th {\n",
       "        text-align: right;\n",
       "    }\n",
       "</style>\n",
       "<table border=\"1\" class=\"dataframe\">\n",
       "  <thead>\n",
       "    <tr style=\"text-align: right;\">\n",
       "      <th></th>\n",
       "      <th>count</th>\n",
       "      <th>mean</th>\n",
       "      <th>std</th>\n",
       "      <th>min</th>\n",
       "      <th>25%</th>\n",
       "      <th>50%</th>\n",
       "      <th>75%</th>\n",
       "      <th>max</th>\n",
       "    </tr>\n",
       "  </thead>\n",
       "  <tbody>\n",
       "    <tr>\n",
       "      <th>Temperature</th>\n",
       "      <td>365.0</td>\n",
       "      <td>61.224658</td>\n",
       "      <td>18.085892</td>\n",
       "      <td>15.1</td>\n",
       "      <td>49.70</td>\n",
       "      <td>61.10</td>\n",
       "      <td>71.70</td>\n",
       "      <td>212.0</td>\n",
       "    </tr>\n",
       "    <tr>\n",
       "      <th>Rainfall</th>\n",
       "      <td>365.0</td>\n",
       "      <td>0.825973</td>\n",
       "      <td>0.273890</td>\n",
       "      <td>0.4</td>\n",
       "      <td>0.65</td>\n",
       "      <td>0.74</td>\n",
       "      <td>0.91</td>\n",
       "      <td>2.5</td>\n",
       "    </tr>\n",
       "    <tr>\n",
       "      <th>Flyers</th>\n",
       "      <td>365.0</td>\n",
       "      <td>40.104110</td>\n",
       "      <td>13.786445</td>\n",
       "      <td>-38.0</td>\n",
       "      <td>31.00</td>\n",
       "      <td>39.00</td>\n",
       "      <td>49.00</td>\n",
       "      <td>80.0</td>\n",
       "    </tr>\n",
       "    <tr>\n",
       "      <th>Price</th>\n",
       "      <td>365.0</td>\n",
       "      <td>0.500000</td>\n",
       "      <td>0.000000</td>\n",
       "      <td>0.5</td>\n",
       "      <td>0.50</td>\n",
       "      <td>0.50</td>\n",
       "      <td>0.50</td>\n",
       "      <td>0.5</td>\n",
       "    </tr>\n",
       "    <tr>\n",
       "      <th>Sales</th>\n",
       "      <td>365.0</td>\n",
       "      <td>27.865753</td>\n",
       "      <td>30.948132</td>\n",
       "      <td>7.0</td>\n",
       "      <td>20.00</td>\n",
       "      <td>25.00</td>\n",
       "      <td>30.00</td>\n",
       "      <td>534.0</td>\n",
       "    </tr>\n",
       "  </tbody>\n",
       "</table>\n",
       "</div>"
      ],
      "text/plain": [
       "             count       mean        std   min    25%    50%    75%    max\n",
       "Temperature  365.0  61.224658  18.085892  15.1  49.70  61.10  71.70  212.0\n",
       "Rainfall     365.0   0.825973   0.273890   0.4   0.65   0.74   0.91    2.5\n",
       "Flyers       365.0  40.104110  13.786445 -38.0  31.00  39.00  49.00   80.0\n",
       "Price        365.0   0.500000   0.000000   0.5   0.50   0.50   0.50    0.5\n",
       "Sales        365.0  27.865753  30.948132   7.0  20.00  25.00  30.00  534.0"
      ]
     },
     "execution_count": 12,
     "metadata": {},
     "output_type": "execute_result"
    }
   ],
   "source": [
    "df.describe().T"
   ]
  },
  {
   "cell_type": "code",
   "execution_count": 16,
   "id": "fb3869b0",
   "metadata": {},
   "outputs": [
    {
     "data": {
      "text/plain": [
       "<AxesSubplot:ylabel='Frequency'>"
      ]
     },
     "execution_count": 16,
     "metadata": {},
     "output_type": "execute_result"
    },
    {
     "data": {
      "image/png": "[encoded data removed]",
      "text/plain": [
       "<Figure size 432x288 with 1 Axes>"
      ]
     },
     "metadata": {
      "needs_background": "light"
     },
     "output_type": "display_data"
    }
   ],
   "source": [
    "df.Temperature.plot.hist()"
   ]
  },
  {
   "cell_type": "markdown",
   "id": "7eb78e88",
   "metadata": {},
   "source": [
    "thoughts - looks like the 200 is an outlier. Thinking about real life, this is absolutely an outlier. Could the temp be in a different unit of measurement here or a typo?"
   ]
  },
  {
   "cell_type": "code",
   "execution_count": 17,
   "id": "3e27149b",
   "metadata": {},
   "outputs": [
    {
     "data": {
      "text/plain": [
       "<AxesSubplot:ylabel='Frequency'>"
      ]
     },
     "execution_count": 17,
     "metadata": {},
     "output_type": "execute_result"
    },
    {
     "data": {
      "image/png": "[encoded data removed]",
      "text/plain": [
       "<Figure size 432x288 with 1 Axes>"
      ]
     },
     "metadata": {
      "needs_background": "light"
     },
     "output_type": "display_data"
    }
   ],
   "source": [
    "df.Rainfall.plot.hist()"
   ]
  },
  {
   "cell_type": "code",
   "execution_count": 18,
   "id": "46e4deba",
   "metadata": {},
   "outputs": [
    {
     "data": {
      "text/plain": [
       "<AxesSubplot:ylabel='Frequency'>"
      ]
     },
     "execution_count": 18,
     "metadata": {},
     "output_type": "execute_result"
    },
    {
     "data": {
      "image/png": "[encoded data removed]",
      "text/plain": [
       "<Figure size 432x288 with 1 Axes>"
      ]
     },
     "metadata": {
      "needs_background": "light"
     },
     "output_type": "display_data"
    }
   ],
   "source": [
    "df.Flyers.plot.hist()"
   ]
  },
  {
   "cell_type": "markdown",
   "id": "f07d5f3f",
   "metadata": {},
   "source": [
    "thoughts - how do you have negative flyers? I feel like this may be an input mistake"
   ]
  },
  {
   "cell_type": "code",
   "execution_count": 19,
   "id": "6a7f5db5",
   "metadata": {},
   "outputs": [
    {
     "data": {
      "text/plain": [
       "<AxesSubplot:ylabel='Frequency'>"
      ]
     },
     "execution_count": 19,
     "metadata": {},
     "output_type": "execute_result"
    },
    {
     "data": {
      "image/png": "[encoded data removed]",
      "text/plain": [
       "<Figure size 432x288 with 1 Axes>"
      ]
     },
     "metadata": {
      "needs_background": "light"
     },
     "output_type": "display_data"
    }
   ],
   "source": [
    "df.Price.plot.hist()"
   ]
  },
  {
   "cell_type": "code",
   "execution_count": 20,
   "id": "1f995e04",
   "metadata": {},
   "outputs": [
    {
     "data": {
      "text/plain": [
       "0.5    365\n",
       "Name: Price, dtype: int64"
      ]
     },
     "execution_count": 20,
     "metadata": {},
     "output_type": "execute_result"
    }
   ],
   "source": [
    "df.Price.value_counts()"
   ]
  },
  {
   "cell_type": "markdown",
   "id": "70bed1d9",
   "metadata": {},
   "source": [
    "thought - my only thought here is that this column wouldn't really be needed as nothing changes here. "
   ]
  },
  {
   "cell_type": "code",
   "execution_count": 21,
   "id": "cabcccc8",
   "metadata": {},
   "outputs": [
    {
     "data": {
      "text/plain": [
       "<AxesSubplot:ylabel='Frequency'>"
      ]
     },
     "execution_count": 21,
     "metadata": {},
     "output_type": "execute_result"
    },
    {
     "data": {
      "image/png": "[encoded data removed]",
      "text/plain": [
       "<Figure size 432x288 with 1 Axes>"
      ]
     },
     "metadata": {
      "needs_background": "light"
     },
     "output_type": "display_data"
    }
   ],
   "source": [
    "df.Sales.plot.hist()"
   ]
  },
  {
   "cell_type": "markdown",
   "id": "8183690c",
   "metadata": {},
   "source": [
    "thoughts- don't know what's going on with the high amount of sales on certain occasions yet, but to be looked at further. Could this be due to a special event or something? To be explored"
   ]
  },
  {
   "cell_type": "code",
   "execution_count": 30,
   "id": "12e19076",
   "metadata": {},
   "outputs": [
    {
     "data": {
      "text/plain": [
       "<AxesSubplot:xlabel='Day', ylabel='Count'>"
      ]
     },
     "execution_count": 30,
     "metadata": {},
     "output_type": "execute_result"
    },
    {
     "data": {
      "image/png": "[encoded data removed]",
      "text/plain": [
       "<Figure size 432x288 with 1 Axes>"
      ]
     },
     "metadata": {
      "needs_background": "light"
     },
     "output_type": "display_data"
    }
   ],
   "source": [
    "sns.histplot(df.Day)"
   ]
  },
  {
   "cell_type": "code",
   "execution_count": 31,
   "id": "0abcc5b7",
   "metadata": {},
   "outputs": [
    {
     "data": {
      "text/plain": [
       "Sunday       53\n",
       "Monday       52\n",
       "Tuesday      52\n",
       "Wednesday    52\n",
       "Thursday     52\n",
       "Friday       52\n",
       "Saturday     52\n",
       "Name: Day, dtype: int64"
      ]
     },
     "execution_count": 31,
     "metadata": {},
     "output_type": "execute_result"
    }
   ],
   "source": [
    "df.Day.value_counts()"
   ]
  },
  {
   "cell_type": "markdown",
   "id": "0262a533",
   "metadata": {},
   "source": [
    "-thoughts- looks very evenly distributed here. could still be useful to see if anything comes up for days with mutlivariate explore\n",
    "\n",
    "-we're going to consider the target to be Sales"
   ]
  },
  {
   "cell_type": "markdown",
   "id": "a6480a49",
   "metadata": {},
   "source": [
    "### Exercise Question 1\n",
    "\n",
    "- Use the IQR Range Rule and the upper and lower bounds to identify the lower outliers of each column of lemonade.csv, using the multiplier of 1.5. Do these lower outliers make sense? Which outliers should be kept?\n",
    "\n",
    "- Use the IQR Range Rule and the upper and upper bounds to identify the upper outliers of each column of lemonade.csv, using the multiplier of 1.5. Do these upper outliers make sense? Which outliers should be kept?\n",
    "\n",
    "- Using the multiplier of 3, IQR Range Rule, and the lower bounds, identify the outliers below the lower bound in each colum of lemonade.csv. Do these lower outliers make sense? Which outliers should be kept?\n",
    "\n",
    "- Using the multiplier of 3, IQR Range Rule, and the upper bounds, identify the outliers above the upper_bound in each colum of lemonade.csv. Do these upper outliers make sense? Which outliers should be kept?"
   ]
  },
  {
   "cell_type": "code",
   "execution_count": 35,
   "id": "cf7c52d1",
   "metadata": {},
   "outputs": [],
   "source": [
    "dff = df.copy() #making copy to be able to reference original df easily"
   ]
  },
  {
   "cell_type": "code",
   "execution_count": 36,
   "id": "6be5aaaa",
   "metadata": {},
   "outputs": [
    {
     "data": {
      "text/html": [
       "<div>\n",
       "<style scoped>\n",
       "    .dataframe tbody tr th:only-of-type {\n",
       "        vertical-align: middle;\n",
       "    }\n",
       "\n",
       "    .dataframe tbody tr th {\n",
       "        vertical-align: top;\n",
       "    }\n",
       "\n",
       "    .dataframe thead th {\n",
       "        text-align: right;\n",
       "    }\n",
       "</style>\n",
       "<table border=\"1\" class=\"dataframe\">\n",
       "  <thead>\n",
       "    <tr style=\"text-align: right;\">\n",
       "      <th></th>\n",
       "      <th>Date</th>\n",
       "      <th>Day</th>\n",
       "      <th>Temperature</th>\n",
       "      <th>Rainfall</th>\n",
       "      <th>Flyers</th>\n",
       "      <th>Price</th>\n",
       "      <th>Sales</th>\n",
       "    </tr>\n",
       "  </thead>\n",
       "  <tbody>\n",
       "    <tr>\n",
       "      <th>0</th>\n",
       "      <td>2017-01-01</td>\n",
       "      <td>Sunday</td>\n",
       "      <td>27.0</td>\n",
       "      <td>2.00</td>\n",
       "      <td>15</td>\n",
       "      <td>0.5</td>\n",
       "      <td>10</td>\n",
       "    </tr>\n",
       "    <tr>\n",
       "      <th>1</th>\n",
       "      <td>2017-01-02</td>\n",
       "      <td>Monday</td>\n",
       "      <td>28.9</td>\n",
       "      <td>1.33</td>\n",
       "      <td>15</td>\n",
       "      <td>0.5</td>\n",
       "      <td>13</td>\n",
       "    </tr>\n",
       "    <tr>\n",
       "      <th>2</th>\n",
       "      <td>2017-01-03</td>\n",
       "      <td>Tuesday</td>\n",
       "      <td>34.5</td>\n",
       "      <td>1.33</td>\n",
       "      <td>27</td>\n",
       "      <td>0.5</td>\n",
       "      <td>15</td>\n",
       "    </tr>\n",
       "    <tr>\n",
       "      <th>3</th>\n",
       "      <td>2017-01-04</td>\n",
       "      <td>Wednesday</td>\n",
       "      <td>44.1</td>\n",
       "      <td>1.05</td>\n",
       "      <td>28</td>\n",
       "      <td>0.5</td>\n",
       "      <td>17</td>\n",
       "    </tr>\n",
       "    <tr>\n",
       "      <th>4</th>\n",
       "      <td>2017-01-05</td>\n",
       "      <td>Thursday</td>\n",
       "      <td>42.4</td>\n",
       "      <td>1.00</td>\n",
       "      <td>33</td>\n",
       "      <td>0.5</td>\n",
       "      <td>18</td>\n",
       "    </tr>\n",
       "  </tbody>\n",
       "</table>\n",
       "</div>"
      ],
      "text/plain": [
       "        Date        Day  Temperature  Rainfall  Flyers  Price  Sales\n",
       "0 2017-01-01     Sunday         27.0      2.00      15    0.5     10\n",
       "1 2017-01-02     Monday         28.9      1.33      15    0.5     13\n",
       "2 2017-01-03    Tuesday         34.5      1.33      27    0.5     15\n",
       "3 2017-01-04  Wednesday         44.1      1.05      28    0.5     17\n",
       "4 2017-01-05   Thursday         42.4      1.00      33    0.5     18"
      ]
     },
     "execution_count": 36,
     "metadata": {},
     "output_type": "execute_result"
    }
   ],
   "source": [
    "dff.head()"
   ]
  },
  {
   "cell_type": "markdown",
   "id": "d591339a",
   "metadata": {},
   "source": [
    "- lower inner fence: Q1 - 1.5*IQR\n",
    "- upper inner fence: Q3 + 1.5*IQR\n",
    "- lower outer fence: Q1 - 3*IQR\n",
    "- upper outer fence: Q3 + 3*IQR"
   ]
  },
  {
   "cell_type": "code",
   "execution_count": 84,
   "id": "9bc3dc09",
   "metadata": {},
   "outputs": [
    {
     "name": "stdout",
     "output_type": "stream",
     "text": [
      "lower bound with multiplier of 1.5: 16.700000000000003\n",
      "upper bound with multiplier of 1.5: 104.7\n",
      "lower bound with multiplier of 3: -16.299999999999997\n",
      "upper bound with multiplier of 3: 137.7\n"
     ]
    }
   ],
   "source": [
    "q1, q3 = dff.Temperature.quantile([.25, .75])\n",
    "iqr = q3 - q1\n",
    "lower_bound_1_5 = q1 - (1.5 * iqr)\n",
    "upper_bound_1_5 = q3 + (1.5 * iqr)\n",
    "lower_bound_3 = q1 - (3 * iqr)\n",
    "upper_bound_3 = q3 + (3 * iqr)\n",
    "\n",
    "print('lower bound with multiplier of 1.5: {:}'.format(lower_bound_1_5))\n",
    "print('upper bound with multiplier of 1.5: {:}'.format(upper_bound_1_5))\n",
    "print('lower bound with multiplier of 3: {:}'.format(lower_bound_3))\n",
    "print('upper bound with multiplier of 3: {:}'.format(upper_bound_3))"
   ]
  },
  {
   "cell_type": "code",
   "execution_count": 89,
   "id": "0e0dde63",
   "metadata": {},
   "outputs": [
    {
     "data": {
      "text/plain": [
       "15.1    1\n",
       "22.0    1\n",
       "25.3    1\n",
       "27.0    1\n",
       "28.6    1\n",
       "28.9    2\n",
       "30.6    1\n",
       "30.9    3\n",
       "31.2    1\n",
       "31.3    1\n",
       "31.6    1\n",
       "31.9    1\n",
       "32.2    4\n",
       "32.6    1\n",
       "32.9    1\n",
       "33.5    2\n",
       "34.5    1\n",
       "34.9    2\n",
       "35.2    1\n",
       "35.5    2\n",
       "Name: Temperature, dtype: int64"
      ]
     },
     "execution_count": 89,
     "metadata": {},
     "output_type": "execute_result"
    }
   ],
   "source": [
    "df.Temperature.value_counts().sort_index().head(20)"
   ]
  },
  {
   "cell_type": "markdown",
   "id": "b1a45d3a",
   "metadata": {},
   "source": [
    "### Temperature Outliers Thoughts-\n",
    "\n",
    "- lower bound with multiplier of 1.5: I don't think removing the one outlier below 16.7 would make much sense because there are several cold weather days that are somewhat close to this temperature so it wouldn't make sense to cut it off right here to me\n",
    "\n",
    "- upper bound with multiplier of 1.5: Cutting of the temp here does make sense as there is only one record cut off and it shows 212 (obviously a mistake, but no way of knowing what it's supposed to be right now)\n",
    "\n",
    "- lower bound with multiplier of 3: setting the limit here doesn't remove any data. I would actually make the choice not to remove any lower bound records here as in my opinion, there is not a clear cutoff point and I don't see anything that strikes me as extreme on the lower end for now.\n",
    "\n",
    "- upper bound with multiplier of 3: this limit accompishing the same thing as the using the 1.5 multiplier. I do think the one extreme upper temperature should be cut."
   ]
  },
  {
   "cell_type": "code",
   "execution_count": 90,
   "id": "7c5146ed",
   "metadata": {},
   "outputs": [
    {
     "name": "stdout",
     "output_type": "stream",
     "text": [
      "lower bound with multiplier of 1.5: 0.26\n",
      "upper bound with multiplier of 1.5: 1.3\n",
      "lower bound with multiplier of 3: -0.13\n",
      "upper bound with multiplier of 3: 1.69\n"
     ]
    }
   ],
   "source": [
    "q1, q3 = dff.Rainfall.quantile([.25, .75])\n",
    "iqr = q3 - q1\n",
    "lower_bound_1_5 = q1 - (1.5 * iqr)\n",
    "upper_bound_1_5 = q3 + (1.5 * iqr)\n",
    "lower_bound_3 = q1 - (3 * iqr)\n",
    "upper_bound_3 = q3 + (3 * iqr)\n",
    "\n",
    "print('lower bound with multiplier of 1.5: {:}'.format(lower_bound_1_5))\n",
    "print('upper bound with multiplier of 1.5: {:}'.format(upper_bound_1_5))\n",
    "print('lower bound with multiplier of 3: {:}'.format(lower_bound_3))\n",
    "print('upper bound with multiplier of 3: {:}'.format(upper_bound_3))"
   ]
  },
  {
   "cell_type": "code",
   "execution_count": 92,
   "id": "8b1a158b",
   "metadata": {},
   "outputs": [
    {
     "data": {
      "text/plain": [
       "0.40     1\n",
       "0.47     7\n",
       "0.49     1\n",
       "0.50     3\n",
       "0.51     6\n",
       "0.53     2\n",
       "0.54     6\n",
       "0.56     7\n",
       "0.57    10\n",
       "0.59    12\n",
       "0.61     8\n",
       "0.63    18\n",
       "0.65    17\n",
       "0.67    19\n",
       "0.69    22\n",
       "0.71    19\n",
       "0.74    26\n",
       "0.77    26\n",
       "0.80    20\n",
       "0.83    17\n",
       "0.87    18\n",
       "0.91    10\n",
       "0.95    11\n",
       "1.00    14\n",
       "1.05    15\n",
       "1.11     7\n",
       "1.18     5\n",
       "1.25    10\n",
       "1.33     9\n",
       "1.43     7\n",
       "1.54     7\n",
       "1.67     1\n",
       "1.82     2\n",
       "2.00     1\n",
       "2.50     1\n",
       "Name: Rainfall, dtype: int64"
      ]
     },
     "execution_count": 92,
     "metadata": {},
     "output_type": "execute_result"
    }
   ],
   "source": [
    "df.Rainfall.value_counts().sort_index()"
   ]
  },
  {
   "cell_type": "code",
   "execution_count": 99,
   "id": "d7139baf",
   "metadata": {},
   "outputs": [
    {
     "data": {
      "text/plain": [
       "(28, 0.07671232876712329)"
      ]
     },
     "execution_count": 99,
     "metadata": {},
     "output_type": "execute_result"
    }
   ],
   "source": [
    "(df.Rainfall > upper_bound_1_5).sum(), (df.Rainfall > upper_bound_1_5).sum()/len(df)"
   ]
  },
  {
   "cell_type": "code",
   "execution_count": 98,
   "id": "22d853d0",
   "metadata": {},
   "outputs": [
    {
     "data": {
      "text/plain": [
       "(4, 0.010958904109589041)"
      ]
     },
     "execution_count": 98,
     "metadata": {},
     "output_type": "execute_result"
    }
   ],
   "source": [
    "(df.Rainfall > upper_bound_3 ).sum(), (df.Rainfall > upper_bound_3).sum()/len(df)"
   ]
  },
  {
   "cell_type": "markdown",
   "id": "5ed2fb98",
   "metadata": {},
   "source": [
    "### Rainfall Outliers Thoughts-\n",
    "\n",
    "- lower bound with multiplier of 1.5: No records will be lost here. This makes sense to me as there wouldn't be a logical reason to drop records with very low rain for lemonade sales. I would think little to no rain is the more likely scenario (could be location dependent of course)\n",
    "\n",
    "- upper bound with multiplier of 1.5: using this cutoff would result in 28 records being cut and 8% of the data. I not choose to use this cutoff point as there are records with very similar rainfall that wouldn't be cut and choosing this point wouldn't make sense. I also think it'd be important to look at how high rainfall could impact sales. Of course, we could go back and change this if finding it's useless to keep these, but right now, I'd be curious to see what happens keeping these. \n",
    "\n",
    "- lower bound with multiplier of 3: Again, records not impacted here\n",
    "\n",
    "- upper bound with multiplier of 3: This limit seems appropriate to me. We'd lose 4 records and 1% of the data. I'd think that extreme rain would cause too much of a disruption for lemonade sales, but actually, I'd need to know more about the lemonade sales before making this call. It's possible the sales might be indoors and that could change things. I could make a case for either setting the limit here or not removing any. I would likely start with not removing any and re-evaluate after exploration if needed."
   ]
  },
  {
   "cell_type": "code",
   "execution_count": 100,
   "id": "6e42fc29",
   "metadata": {},
   "outputs": [
    {
     "name": "stdout",
     "output_type": "stream",
     "text": [
      "lower bound with multiplier of 1.5: 4.0\n",
      "upper bound with multiplier of 1.5: 76.0\n",
      "lower bound with multiplier of 3: -23.0\n",
      "upper bound with multiplier of 3: 103.0\n"
     ]
    }
   ],
   "source": [
    "q1, q3 = dff.Flyers.quantile([.25, .75])\n",
    "iqr = q3 - q1\n",
    "lower_bound_1_5 = q1 - (1.5 * iqr)\n",
    "upper_bound_1_5 = q3 + (1.5 * iqr)\n",
    "lower_bound_3 = q1 - (3 * iqr)\n",
    "upper_bound_3 = q3 + (3 * iqr)\n",
    "\n",
    "print('lower bound with multiplier of 1.5: {:}'.format(lower_bound_1_5))\n",
    "print('upper bound with multiplier of 1.5: {:}'.format(upper_bound_1_5))\n",
    "print('lower bound with multiplier of 3: {:}'.format(lower_bound_3))\n",
    "print('upper bound with multiplier of 3: {:}'.format(upper_bound_3))"
   ]
  },
  {
   "cell_type": "code",
   "execution_count": 102,
   "id": "6b0ae02b",
   "metadata": {},
   "outputs": [
    {
     "data": {
      "text/plain": [
       "-38    1\n",
       " 9     1\n",
       " 11    1\n",
       " 15    4\n",
       " 16    4\n",
       "      ..\n",
       " 72    1\n",
       " 74    1\n",
       " 76    2\n",
       " 77    1\n",
       " 80    1\n",
       "Name: Flyers, Length: 63, dtype: int64"
      ]
     },
     "execution_count": 102,
     "metadata": {},
     "output_type": "execute_result"
    }
   ],
   "source": [
    "df.Flyers.value_counts().sort_index()"
   ]
  },
  {
   "cell_type": "markdown",
   "id": "b8701cb6",
   "metadata": {},
   "source": [
    "### Flyers Outliers Thoughts-\n",
    "\n",
    "- lower bound with multiplier of 1.5: We would lose one record here and I am in favor of that. I don't see how there can be negative flyers. It's possible that the - sign was inserted by mistake, but I don't feel confident enough to change it so dropping it would be best and only lose one record.\n",
    "\n",
    "- upper bound with multiplier of 1.5: We'd only lose a couple records with this limit, but I don't think it's appropriate to cut off here because the values of flyers are very close together in the upper range and based on my limited domain knowledge right now, I'd say the difference between 60, 70, 80 fliers MAY be meaningless. Could always adjust, but I'd keep all for now.\n",
    "\n",
    "- lower bound with multiplier of 3: Would still lose just one record and I think that's the right call.\n",
    "\n",
    "- upper bound with multiplier of 3: Would lose no records with this limit and that's the choice I'd make for now"
   ]
  },
  {
   "cell_type": "code",
   "execution_count": 103,
   "id": "83aa81e7",
   "metadata": {},
   "outputs": [
    {
     "name": "stdout",
     "output_type": "stream",
     "text": [
      "lower bound with multiplier of 1.5: 5.0\n",
      "upper bound with multiplier of 1.5: 45.0\n",
      "lower bound with multiplier of 3: -10.0\n",
      "upper bound with multiplier of 3: 60.0\n"
     ]
    }
   ],
   "source": [
    "q1, q3 = dff.Sales.quantile([.25, .75])\n",
    "iqr = q3 - q1\n",
    "lower_bound_1_5 = q1 - (1.5 * iqr)\n",
    "upper_bound_1_5 = q3 + (1.5 * iqr)\n",
    "lower_bound_3 = q1 - (3 * iqr)\n",
    "upper_bound_3 = q3 + (3 * iqr)\n",
    "\n",
    "print('lower bound with multiplier of 1.5: {:}'.format(lower_bound_1_5))\n",
    "print('upper bound with multiplier of 1.5: {:}'.format(upper_bound_1_5))\n",
    "print('lower bound with multiplier of 3: {:}'.format(lower_bound_3))\n",
    "print('upper bound with multiplier of 3: {:}'.format(upper_bound_3))"
   ]
  },
  {
   "cell_type": "code",
   "execution_count": 104,
   "id": "57a486e5",
   "metadata": {},
   "outputs": [
    {
     "data": {
      "text/plain": [
       "7       1\n",
       "10      2\n",
       "11      2\n",
       "12      4\n",
       "13      9\n",
       "14      8\n",
       "15     10\n",
       "16      6\n",
       "17     11\n",
       "18     12\n",
       "19     16\n",
       "20     11\n",
       "21     10\n",
       "22     10\n",
       "23     18\n",
       "24     24\n",
       "25     35\n",
       "26     22\n",
       "27     19\n",
       "28     14\n",
       "29     23\n",
       "30     18\n",
       "31     16\n",
       "32     13\n",
       "33      8\n",
       "34      5\n",
       "35     12\n",
       "36      4\n",
       "37      3\n",
       "38      3\n",
       "39      2\n",
       "40      4\n",
       "41      3\n",
       "42      2\n",
       "43      1\n",
       "143     1\n",
       "158     1\n",
       "235     1\n",
       "534     1\n",
       "Name: Sales, dtype: int64"
      ]
     },
     "execution_count": 104,
     "metadata": {},
     "output_type": "execute_result"
    }
   ],
   "source": [
    "df.Sales.value_counts().sort_index()"
   ]
  },
  {
   "cell_type": "markdown",
   "id": "af46cc31",
   "metadata": {},
   "source": [
    "### Flyers Outliers Thoughts-\n",
    "\n",
    "- lower bound with multiplier of 1.5: No records lost with this limit. This seems appropriate to me right now\n",
    "\n",
    "- upper bound with multiplier of 1.5: We'd lose 4 records and those records have an extremely high number of sales compared to most of the day. This leads me to believe these 4 records are too different to be used in the same analysis as all other records. Perhaps these sales were at a special event or in a very populated area. We don't have the information to determine that right now, so I am in favor of dropping them.\n",
    "\n",
    "- lower bound with multiplier of 3: Again, no records lost here.\n",
    "\n",
    "- upper bound with multiplier of 3: The same records would be lost here on the upper side."
   ]
  },
  {
   "cell_type": "code",
   "execution_count": null,
   "id": "9e06b9bf",
   "metadata": {},
   "outputs": [],
   "source": []
  }
 ],
 "metadata": {
  "kernelspec": {
   "display_name": "Python 3 (ipykernel)",
   "language": "python",
   "name": "python3"
  },
  "language_info": {
   "codemirror_mode": {
    "name": "ipython",
    "version": 3
   },
   "file_extension": ".py",
   "mimetype": "text/x-python",
   "name": "python",
   "nbconvert_exporter": "python",
   "pygments_lexer": "ipython3",
   "version": "3.9.7"
  }
 },
 "nbformat": 4,
 "nbformat_minor": 5
}
